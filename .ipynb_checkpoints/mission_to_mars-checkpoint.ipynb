{
 "cells": [
  {
   "cell_type": "markdown",
   "metadata": {},
   "source": [
    "### Libraries used"
   ]
  },
  {
   "cell_type": "code",
   "execution_count": 1,
   "metadata": {},
   "outputs": [],
   "source": [
    "# Dependencies\n",
    "from splinter import Browser\n",
    "from bs4 import BeautifulSoup\n",
    "import pandas as pd\n",
    "import time\n",
    "###import requests\n",
    "###import pymongo\n",
    "###import os\n",
    "###import datetime as dt\n",
    "###from selenium import webdriver"
   ]
  },
  {
   "cell_type": "code",
   "execution_count": 2,
   "metadata": {},
   "outputs": [],
   "source": [
    "executable_path = {\"executable_path\": \"chromedriver.exe\"}\n",
    "browser = Browser(\"chrome\", **executable_path, headless=True)\n",
    "time.sleep(2)"
   ]
  },
  {
   "cell_type": "markdown",
   "metadata": {},
   "source": [
    "# Web Scraping:"
   ]
  },
  {
   "cell_type": "markdown",
   "metadata": {},
   "source": [
    "## Nasa Mars News"
   ]
  },
  {
   "cell_type": "code",
   "execution_count": 3,
   "metadata": {},
   "outputs": [],
   "source": [
    "# URL of NASA Mars site, News page to be scraped\n",
    "mars_url = 'https://mars.nasa.gov/news/'\n",
    "browser.visit(mars_url)"
   ]
  },
  {
   "cell_type": "code",
   "execution_count": 4,
   "metadata": {},
   "outputs": [],
   "source": [
    "# Get HTML page with the browser; create BeautifulSoup object; parse with 'html.parser'\n",
    "mars_html = browser.html\n",
    "mars_nasa_data = BeautifulSoup(mars_html, 'html.parser')\n",
    "#mars_nasa_data\n",
    "\n",
    "# Get needed fields from html page, wait a second\n",
    "# browser.is_element_present_by_css(\"ul.item_list li.slide\",wait_time=1)\n",
    "time.sleep(2)"
   ]
  },
  {
   "cell_type": "code",
   "execution_count": 5,
   "metadata": {},
   "outputs": [
    {
     "name": "stdout",
     "output_type": "stream",
     "text": [
      "The news_title is: NASA's InSight Passes Halfway to Mars, Instruments Check In\n",
      "The news teaser body is: NASA's InSight spacecraft, en route to a Nov. 26 landing on Mars, passed the halfway mark on Aug. 6. All of its instruments have been tested and are working well.\n"
     ]
    }
   ],
   "source": [
    "# Extract the first news title and description\n",
    "\n",
    "# Get news_title and news_teaser_body\n",
    "\n",
    "try:\n",
    "    ###article_element = mars_nasa_data.select_one(\"ul.item_list li.slide\")\n",
    "    # print(f\"The article_element is: {article_element}\") \n",
    "    \n",
    "    ###news_title = article_element.find(\"div\", class_=\"content_title\").get_text()\n",
    "    news_title = mars_nasa_data.find('ul', class_=\"item_list\").find('li',class_=\"slide\").find('div',class_=\"content_title\").text\n",
    "    print(f\"The news_title is: {news_title}\") \n",
    "    \n",
    "    ###news_teaser_body = article_element.find(\"div\", class_=\"article_teaser_body\").get_text()\n",
    "    news_teaser_body = mars_nasa_data.find('ul',class_=\"item_list\").find('li',class_=\"slide\").find('div',class_=\"article_teaser_body\").text\n",
    "    print(f\"The news teaser body is: {news_teaser_body}\")\n",
    "    \n",
    "except AttributeError as e:\n",
    "    print(e)"
   ]
  },
  {
   "cell_type": "markdown",
   "metadata": {},
   "source": [
    "## JPG Mars Space Images - Featured Space Image"
   ]
  },
  {
   "cell_type": "code",
   "execution_count": 6,
   "metadata": {},
   "outputs": [],
   "source": [
    "# URL of NASA Mars site, JPL Featured Space Images page to be scraped\n",
    "mar_space_images_url = 'https://www.jpl.nasa.gov/spaceimages/?search=&category=Mars'\n",
    "browser.visit(mar_space_images_url)"
   ]
  },
  {
   "cell_type": "code",
   "execution_count": 7,
   "metadata": {},
   "outputs": [],
   "source": [
    "# Find and Click \"FULL IMAGE\" button\n",
    "full_image_data = browser.find_by_id('full_image')\n",
    "full_image_data.click()"
   ]
  },
  {
   "cell_type": "code",
   "execution_count": 8,
   "metadata": {},
   "outputs": [],
   "source": [
    "# Find and Click 'more info' button, wait a second\n",
    "### browser.is_element_present_by_text('more info',wait_time=1)\n",
    "time.sleep(5)\n",
    "more_info_data = browser.find_link_by_partial_text('more info')\n",
    "more_info_data.click()"
   ]
  },
  {
   "cell_type": "code",
   "execution_count": 9,
   "metadata": {},
   "outputs": [],
   "source": [
    "# Get HTML page with the browser; create BeautifulSoup object; parse with 'html.parser'\n",
    "time.sleep(2)\n",
    "mars_images_html = browser.html\n",
    "mars_images_data = BeautifulSoup(mars_images_html, 'html.parser')\n",
    "#mars_images_data"
   ]
  },
  {
   "cell_type": "code",
   "execution_count": 10,
   "metadata": {},
   "outputs": [
    {
     "name": "stdout",
     "output_type": "stream",
     "text": [
      "The featured_image_url is: /spaceimages/images/largesize/PIA00069_hires.jpg\n"
     ]
    }
   ],
   "source": [
    "# Get featured_image_url\n",
    "try:    \n",
    "    featured_image_url = mars_images_data.find('figure', class_='lede').a['href']\n",
    "    print(f\"The featured_image_url is: {featured_image_url}\") \n",
    "    \n",
    "except AttributeError as e:\n",
    "    print(e)"
   ]
  },
  {
   "cell_type": "code",
   "execution_count": 11,
   "metadata": {},
   "outputs": [
    {
     "name": "stdout",
     "output_type": "stream",
     "text": [
      "The full_image_url is: https://www.jpl.nasa.gov/spaceimages/images/largesize/PIA00069_hires.jpg\n"
     ]
    }
   ],
   "source": [
    "# Compose complete url string for this full size image png\n",
    "full_image_url = \"https://www.jpl.nasa.gov\" + featured_image_url\n",
    "print(f\"The full_image_url is: {full_image_url}\") "
   ]
  },
  {
   "cell_type": "markdown",
   "metadata": {},
   "source": [
    "## Mars Weather"
   ]
  },
  {
   "cell_type": "code",
   "execution_count": 12,
   "metadata": {},
   "outputs": [],
   "source": [
    "# URL of Mars Weather twitter page to be scraped\n",
    "mars_twitter_weather_url = 'https://twitter.com/marswxreport?lang=en)'\n",
    "browser.visit(mars_twitter_weather_url)"
   ]
  },
  {
   "cell_type": "code",
   "execution_count": 13,
   "metadata": {},
   "outputs": [],
   "source": [
    "# Get HTML page with the browser; create BeautifulSoup object; parse with 'html.parser'\n",
    "mars_weather_html = browser.html\n",
    "mars_weather_data = BeautifulSoup(mars_weather_html, 'html.parser')\n",
    "#mars_weather_data"
   ]
  },
  {
   "cell_type": "code",
   "execution_count": 14,
   "metadata": {},
   "outputs": [
    {
     "name": "stdout",
     "output_type": "stream",
     "text": [
      "The mars_weather is: Sol 2147 (2018-08-21), high -15C/5F, low -68C/-90F, pressure at 8.70 hPa, daylight 05:30-17:44\n"
     ]
    }
   ],
   "source": [
    "# Scrape the latest Mars Weather tweet text\n",
    "mars_weather  = mars_weather_data.find('div', attrs={\"class\": \"tweet\", \"data-name\": \"Mars Weather\"}).\\\n",
    "find('p',class_=\"TweetTextSize TweetTextSize--normal js-tweet-text tweet-text\").text\n",
    "print(f\"The mars_weather is: {mars_weather}\") "
   ]
  },
  {
   "cell_type": "markdown",
   "metadata": {},
   "source": [
    "## Mars Facts"
   ]
  },
  {
   "cell_type": "code",
   "execution_count": 15,
   "metadata": {},
   "outputs": [
    {
     "data": {
      "text/html": [
       "<div>\n",
       "<style scoped>\n",
       "    .dataframe tbody tr th:only-of-type {\n",
       "        vertical-align: middle;\n",
       "    }\n",
       "\n",
       "    .dataframe tbody tr th {\n",
       "        vertical-align: top;\n",
       "    }\n",
       "\n",
       "    .dataframe thead th {\n",
       "        text-align: right;\n",
       "    }\n",
       "</style>\n",
       "<table border=\"1\" class=\"dataframe\">\n",
       "  <thead>\n",
       "    <tr style=\"text-align: right;\">\n",
       "      <th></th>\n",
       "      <th>Description</th>\n",
       "      <th>Value</th>\n",
       "    </tr>\n",
       "  </thead>\n",
       "  <tbody>\n",
       "    <tr>\n",
       "      <th>0</th>\n",
       "      <td>Equatorial Diameter:</td>\n",
       "      <td>6,792 km</td>\n",
       "    </tr>\n",
       "    <tr>\n",
       "      <th>1</th>\n",
       "      <td>Polar Diameter:</td>\n",
       "      <td>6,752 km</td>\n",
       "    </tr>\n",
       "    <tr>\n",
       "      <th>2</th>\n",
       "      <td>Mass:</td>\n",
       "      <td>6.42 x 10^23 kg (10.7% Earth)</td>\n",
       "    </tr>\n",
       "    <tr>\n",
       "      <th>3</th>\n",
       "      <td>Moons:</td>\n",
       "      <td>2 (Phobos &amp; Deimos)</td>\n",
       "    </tr>\n",
       "    <tr>\n",
       "      <th>4</th>\n",
       "      <td>Orbit Distance:</td>\n",
       "      <td>227,943,824 km (1.52 AU)</td>\n",
       "    </tr>\n",
       "    <tr>\n",
       "      <th>5</th>\n",
       "      <td>Orbit Period:</td>\n",
       "      <td>687 days (1.9 years)</td>\n",
       "    </tr>\n",
       "    <tr>\n",
       "      <th>6</th>\n",
       "      <td>Surface Temperature:</td>\n",
       "      <td>-153 to 20 °C</td>\n",
       "    </tr>\n",
       "    <tr>\n",
       "      <th>7</th>\n",
       "      <td>First Record:</td>\n",
       "      <td>2nd millennium BC</td>\n",
       "    </tr>\n",
       "    <tr>\n",
       "      <th>8</th>\n",
       "      <td>Recorded By:</td>\n",
       "      <td>Egyptian astronomers</td>\n",
       "    </tr>\n",
       "  </tbody>\n",
       "</table>\n",
       "</div>"
      ],
      "text/plain": [
       "            Description                          Value\n",
       "0  Equatorial Diameter:                       6,792 km\n",
       "1       Polar Diameter:                       6,752 km\n",
       "2                 Mass:  6.42 x 10^23 kg (10.7% Earth)\n",
       "3                Moons:            2 (Phobos & Deimos)\n",
       "4       Orbit Distance:       227,943,824 km (1.52 AU)\n",
       "5         Orbit Period:           687 days (1.9 years)\n",
       "6  Surface Temperature:                  -153 to 20 °C\n",
       "7         First Record:              2nd millennium BC\n",
       "8          Recorded By:           Egyptian astronomers"
      ]
     },
     "execution_count": 15,
     "metadata": {},
     "output_type": "execute_result"
    }
   ],
   "source": [
    "# Read Mars Facts webpage; use Pandas to scrape the table containing facts about the planet including Diameter, Mass, etc.\n",
    "mars_facts_url = 'https://space-facts.com/mars/'\n",
    "mars_facts_table_df = pd.read_html(mars_facts_url)[0]\n",
    "mars_facts_table_df.columns = ['Description','Value']\n",
    "mars_facts_table_df"
   ]
  },
  {
   "cell_type": "code",
   "execution_count": 16,
   "metadata": {},
   "outputs": [],
   "source": [
    "# Use Pandas to convert the data to a HTML table string and save to a file\n",
    "mars_facts_table_df.to_html('MarsFactsTable.html', index=False )\n",
    "#mars_facts_table_df.to_html()"
   ]
  },
  {
   "cell_type": "markdown",
   "metadata": {},
   "source": [
    "## Mars Hemispheres"
   ]
  },
  {
   "cell_type": "code",
   "execution_count": 17,
   "metadata": {},
   "outputs": [],
   "source": [
    "# URL of USGS Astrogeology site to be scraped\n",
    "# to obtain high resolution images for each of Mar's hemispheres\n",
    "usgs_astrogeology_url = 'https://astrogeology.usgs.gov/search/results?q=hemisphere+enhanced&k1=target&v1=Mars'\n",
    "browser.visit(usgs_astrogeology_url)\n",
    "\n",
    "# Initialize the list for the dictionary of hemisphere images \n",
    "hemisphere_image_urls = []\n",
    "\n",
    "# Get HTML page with the browser; create BeautifulSoup object; parse with 'html.parser'\n",
    "usgs_astrogeology_html = browser.html\n",
    "all_hemisphere_data = BeautifulSoup(usgs_astrogeology_html, 'html.parser')\n",
    "#all_hemisphere_data"
   ]
  },
  {
   "cell_type": "code",
   "execution_count": 18,
   "metadata": {},
   "outputs": [],
   "source": [
    "# Get the iterable list of all hemispere information\n",
    "hemisphere_results = all_hemisphere_data.find('div', class_='collapsible results').find_all('div',class_='item')\n",
    "###hemisphere_results"
   ]
  },
  {
   "cell_type": "code",
   "execution_count": 19,
   "metadata": {},
   "outputs": [
    {
     "name": "stdout",
     "output_type": "stream",
     "text": [
      "{'title': 'Cerberus Hemisphere', 'image_url': 'http://astropedia.astrogeology.usgs.gov/download/Mars/Viking/cerberus_enhanced.tif/full.jpg'}\n",
      "{'title': 'Schiaparelli Hemisphere', 'image_url': 'http://astropedia.astrogeology.usgs.gov/download/Mars/Viking/schiaparelli_enhanced.tif/full.jpg'}\n",
      "{'title': 'Syrtis Major Hemisphere', 'image_url': 'http://astropedia.astrogeology.usgs.gov/download/Mars/Viking/syrtis_major_enhanced.tif/full.jpg'}\n",
      "{'title': 'Valles Marineris Hemisphere', 'image_url': 'http://astropedia.astrogeology.usgs.gov/download/Mars/Viking/valles_marineris_enhanced.tif/full.jpg'}\n"
     ]
    }
   ],
   "source": [
    "# Loop through hemisphere results\n",
    "for each_hemisphere in hemisphere_results:\n",
    "    \n",
    "    # Get each hemisphere title \n",
    "    # hem_title = each_hemisphere.find('div', class_='description').h3.text\n",
    "    hem_title = each_hemisphere.find('div', class_='description').find('a', class_='itemLink product-item').h3.text\n",
    "    ###print(hem_title)\n",
    "    # Exclude the word 'Enhanced'\n",
    "    short_hem_title = ' '.join(hem_title.split()[0:-1])\n",
    "    ###print(short_hem_title)\n",
    "     \n",
    "    # Get each hemisphere image URL\n",
    "    base_hem_url = 'https://astrogeology.usgs.gov'\n",
    "\n",
    "    each_hem_image_url = base_hem_url + each_hemisphere.find('a',class_='itemLink product-item')['href']\n",
    "    ###print(each_hem_image_url)\n",
    "    \n",
    "    browser.visit(each_hem_image_url)\n",
    "    time.sleep(2)\n",
    "    each_hem_img_html = browser.html\n",
    "    each_hem_data = BeautifulSoup(each_hem_img_html, 'html.parser')\n",
    "    full_image_url = each_hem_data.find('div',class_='downloads').a['href']\n",
    "    ###print(full_image_url)\n",
    "    \n",
    "    each_hemisphere_image = {\n",
    "        \"title\" : short_hem_title,\n",
    "        \"image_url\" : full_image_url\n",
    "    }\n",
    "    print(each_hemisphere_image)\n",
    "    # Append each hemisphere info to the list of all hemipheres  \n",
    "    hemisphere_image_urls.append(each_hemisphere_image)"
   ]
  },
  {
   "cell_type": "code",
   "execution_count": 20,
   "metadata": {},
   "outputs": [],
   "source": [
    "###print(hemisphere_image_urls)"
   ]
  }
 ],
 "metadata": {
  "kernelspec": {
   "display_name": "Python 3",
   "language": "python",
   "name": "python3"
  },
  "language_info": {
   "codemirror_mode": {
    "name": "ipython",
    "version": 3
   },
   "file_extension": ".py",
   "mimetype": "text/x-python",
   "name": "python",
   "nbconvert_exporter": "python",
   "pygments_lexer": "ipython3",
   "version": "3.6.6"
  },
  "varInspector": {
   "cols": {
    "lenName": 16,
    "lenType": 16,
    "lenVar": 40
   },
   "kernels_config": {
    "python": {
     "delete_cmd_postfix": "",
     "delete_cmd_prefix": "del ",
     "library": "var_list.py",
     "varRefreshCmd": "print(var_dic_list())"
    },
    "r": {
     "delete_cmd_postfix": ") ",
     "delete_cmd_prefix": "rm(",
     "library": "var_list.r",
     "varRefreshCmd": "cat(var_dic_list()) "
    }
   },
   "types_to_exclude": [
    "module",
    "function",
    "builtin_function_or_method",
    "instance",
    "_Feature"
   ],
   "window_display": false
  }
 },
 "nbformat": 4,
 "nbformat_minor": 2
}
